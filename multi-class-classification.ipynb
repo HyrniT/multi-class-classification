{
 "cells": [
  {
   "cell_type": "markdown",
   "id": "45299cd6",
   "metadata": {},
   "source": [
    "# Multi-class Classification"
   ]
  },
  {
   "cell_type": "markdown",
   "id": "b13b5902",
   "metadata": {},
   "source": [
    "## Import relevant modules"
   ]
  },
  {
   "cell_type": "code",
   "execution_count": 1,
   "id": "ccac37e5",
   "metadata": {},
   "outputs": [],
   "source": [
    "import numpy as np\n",
    "import pandas as pd\n",
    "import tensorflow as tf\n",
    "from tensorflow.keras import layers\n",
    "from matplotlib import pyplot as plt\n",
    "\n",
    "# The following lines adjust the granularity of reporting. \n",
    "pd.options.display.max_rows = 10\n",
    "pd.options.display.float_format = \"{:.1f}\".format\n",
    "\n",
    "# The following line improves formatting when ouputting NumPy arrays.\n",
    "np.set_printoptions(linewidth = 200)"
   ]
  },
  {
   "cell_type": "markdown",
   "id": "909cbbff",
   "metadata": {},
   "source": [
    "## Load the dataset"
   ]
  },
  {
   "cell_type": "code",
   "execution_count": 2,
   "id": "ee813a21",
   "metadata": {},
   "outputs": [
    {
     "name": "stdout",
     "output_type": "stream",
     "text": [
      "Downloading data from https://storage.googleapis.com/tensorflow/tf-keras-datasets/mnist.npz\n",
      "11490434/11490434 [==============================] - 2s 0us/step\n"
     ]
    }
   ],
   "source": [
    "(x_train, y_train),(x_test, y_test) = tf.keras.datasets.mnist.load_data()"
   ]
  },
  {
   "cell_type": "markdown",
   "id": "be67475b",
   "metadata": {},
   "source": [
    "## View the dataset"
   ]
  },
  {
   "cell_type": "code",
   "execution_count": 4,
   "id": "6737880d",
   "metadata": {},
   "outputs": [
    {
     "data": {
      "text/plain": [
       "array([[  0,   0,   0,   0,   0,   0,   0,   0,   0,   0,   0,   0,   0,   0,   0,   0,   0,   0,   0,   0,   0,   0,   0,   0,   0,   0,   0,   0],\n",
       "       [  0,   0,   0,   0,   0,   0,   0,   0,   0,   0,   0,   0,   0,   0,   0,   0,   0,   0,   0,   0,   0,   0,   0,   0,   0,   0,   0,   0],\n",
       "       [  0,   0,   0,   0,   0,   0,   0,   0,   0,   0,   0,   0,   0,   0,   0,   0,   0,   0,   0,   0,   0,   0,   0,   0,   0,   0,   0,   0],\n",
       "       [  0,   0,   0,   0,   0,   0,   0,   0,   0,   0,   0,   0,   0,   0,   0,   0,   0,   0,   0,   0,   0,   0,   0,   0,   0,   0,   0,   0],\n",
       "       [  0,   0,   0,   0,   0,   0,   0,   0,   0,   0,   0,   0,   0,   0,   0,   0,   0,   0,   0,   0,   0,   0,   0,   0,   0,   0,   0,   0],\n",
       "       [  0,   0,   0,   0,   0,   0,   0,   0,   0,   0,   0,   0,   0,   0,   0,   0,   0,   0,   0,   0,   0,   0,   0,   0,   0,   0,   0,   0],\n",
       "       [  0,   0,   0,   0,   0,   0,   0,   0, 127, 100, 156, 239, 224, 177, 213, 159,  70,  13,   0,   0,   0,   0,   0,   0,   0,   0,   0,   0],\n",
       "       [  0,   0,   0,   0,   0,   0,   0, 110, 250, 254, 254, 254, 254, 254, 254, 254, 254, 184,  10,   0,   0,   0,   0,   0,   0,   0,   0,   0],\n",
       "       [  0,   0,   0,   0,   0,   0,   0, 216, 254, 254, 254, 254, 254, 254, 254, 254, 254, 251,  54,   0,   0,   0,   0,   0,   0,   0,   0,   0],\n",
       "       [  0,   0,   0,   0,   0,   0,   0,   3, 131, 197,  68, 137, 101,  83,  41,  70, 221, 254, 108,   0,   0,   0,   0,   0,   0,   0,   0,   0],\n",
       "       [  0,   0,   0,   0,   0,   0,   0,   0,   0,   0,   0,   0,   0,   0,   0,   0,  58, 254, 216,  11,   0,   0,   0,   0,   0,   0,   0,   0],\n",
       "       [  0,   0,   0,   0,   0,   0,   0,   0,   0,   0,   0,   0,   0,   0,   0,   0, 110, 254, 254,  24,   0,   0,   0,   0,   0,   0,   0,   0],\n",
       "       [  0,   0,   0,   0,   0,   0,   0,   0,   0,   0,   0,   0,   0,   0,   4,  83, 247, 254, 192,  10,   0,   0,   0,   0,   0,   0,   0,   0],\n",
       "       [  0,   0,   0,   0,   0,   0,   0,   0,   0,   0,   0,   0,   0,  37, 124, 254, 254, 250,  47,   0,   0,   0,   0,   0,   0,   0,   0,   0],\n",
       "       [  0,   0,   0,   0,   0,   0,   0,   0,   0,   0,   0, 113, 178, 250, 254, 254, 254, 252, 178, 128,  50,   0,   0,   0,   0,   0,   0,   0],\n",
       "       [  0,   0,   0,   0,   0,   0,   0,   0,   0,   0,  69, 252, 254, 254, 254, 254, 254, 254, 254, 254, 153,   0,   0,   0,   0,   0,   0,   0],\n",
       "       [  0,   0,   0,   0,   0,   0,   0,   0,   0,   0, 141, 252, 254, 241, 241, 254, 247, 252, 254, 254, 153,   0,   0,   0,   0,   0,   0,   0],\n",
       "       [  0,   0,   0,   0,   0,   0,   0,   0,   0,   0,   0,  68,  82,   5,   5,  82,  37,  65, 167, 254, 190,   0,   0,   0,   0,   0,   0,   0],\n",
       "       [  0,   0,   0,   0,   0,   0,   0,   0,   0,   0,   0,   0,   0,   0,   0,   0,   0,   0, 162, 254, 153,   0,   0,   0,   0,   0,   0,   0],\n",
       "       [  0,   0,   0,   0,   0,   0,   0,   0,   0,   0,   0,   0,   0,   0,   0,   0,   0,   1, 172, 253,  75,   0,   0,   0,   0,   0,   0,   0],\n",
       "       [  0,   0,   0,   0,   0,   0,   0,   0,   0,   0,   0,   0,   0,   0,   0,   0,   0, 102, 254, 152,   0,   0,   0,   0,   0,   0,   0,   0],\n",
       "       [  0,   0,   0,   0,   0,   0,   0,   0,   0,   0,   0,   0,   0,   0,   0,   0,  38, 230, 216,  20,   0,   0,   0,   0,   0,   0,   0,   0],\n",
       "       [  0,   0,   0,   0,   0,   0,   0,   0,   0,   0,   0,   0,   0,   0,   1,  71, 222, 254, 142,   0,   0,   0,   0,   0,   0,   0,   0,   0],\n",
       "       [  0,   0,   0,   0,   0,   0,   0,   0,   0,   0,   0,   0,   0,   0,  66, 254, 254, 157,   0,   0,   0,   0,   0,   0,   0,   0,   0,   0],\n",
       "       [  0,   0,   0,   0,   0,   0,   0,   0,   4,  34,  34,  78, 161, 226, 249, 254, 154,   6,   0,   0,   0,   0,   0,   0,   0,   0,   0,   0],\n",
       "       [  0,   0,   0,   0,   0,   0,   0,  96, 184, 254, 254, 254, 254, 254, 249,  93,   5,   0,   0,   0,   0,   0,   0,   0,   0,   0,   0,   0],\n",
       "       [  0,   0,   0,   0,   0,   0,   0,   0,   0,   0,   0,   0,   0,   0,   0,   0,   0,   0,   0,   0,   0,   0,   0,   0,   0,   0,   0,   0],\n",
       "       [  0,   0,   0,   0,   0,   0,   0,   0,   0,   0,   0,   0,   0,   0,   0,   0,   0,   0,   0,   0,   0,   0,   0,   0,   0,   0,   0,   0]], dtype=uint8)"
      ]
     },
     "execution_count": 4,
     "metadata": {},
     "output_type": "execute_result"
    }
   ],
   "source": [
    "# Output example #2917 of the training set.\n",
    "x_train[2917]"
   ]
  },
  {
   "cell_type": "code",
   "execution_count": 5,
   "id": "7af5219d",
   "metadata": {},
   "outputs": [
    {
     "data": {
      "text/plain": [
       "<matplotlib.image.AxesImage at 0x7f8fa913cfd0>"
      ]
     },
     "execution_count": 5,
     "metadata": {},
     "output_type": "execute_result"
    },
    {
     "data": {
      "image/png": "[encoded data removed]",
      "text/plain": [
       "<Figure size 432x288 with 1 Axes>"
      ]
     },
     "metadata": {
      "needs_background": "light"
     },
     "output_type": "display_data"
    }
   ],
   "source": [
    "# Use false colors to visualize the array.\n",
    "plt.imshow(x_train[2917])"
   ]
  },
  {
   "cell_type": "markdown",
   "id": "da46de81",
   "metadata": {},
   "source": [
    "## Normalize feature values"
   ]
  },
  {
   "cell_type": "code",
   "execution_count": 15,
   "id": "448b9fe0",
   "metadata": {},
   "outputs": [],
   "source": [
    "x_train_normalized = x_train / 255.0\n",
    "x_test_normalized = x_test / 255.0"
   ]
  },
  {
   "cell_type": "markdown",
   "id": "fc9b60dc",
   "metadata": {},
   "source": [
    "## Define a plotting function"
   ]
  },
  {
   "cell_type": "code",
   "execution_count": 16,
   "id": "d48beaa9",
   "metadata": {},
   "outputs": [],
   "source": [
    "def plot_curve(epochs, hist, list_of_metrics):\n",
    "    \"\"\"Plot a curve of one or more classification metrics vs. epoch.\"\"\"  \n",
    "    plt.figure()\n",
    "    plt.xlabel(\"Epoch\")\n",
    "    plt.ylabel(\"Value\")\n",
    "\n",
    "    for m in list_of_metrics:\n",
    "        x = hist[m]\n",
    "        plt.plot(epochs[1:], x[1:], label=m)\n",
    "\n",
    "    plt.legend()"
   ]
  },
  {
   "cell_type": "markdown",
   "id": "514fd9d5",
   "metadata": {},
   "source": [
    "## Create a deep neural net model"
   ]
  },
  {
   "cell_type": "code",
   "execution_count": 17,
   "id": "351fec42",
   "metadata": {},
   "outputs": [],
   "source": [
    "def create_model(my_learning_rate):\n",
    "    \"\"\"Create and compile a deep neural net.\"\"\"\n",
    "  \n",
    "  # All models in this course are sequential.\n",
    "    model = tf.keras.models.Sequential()\n",
    "\n",
    "  # The features are stored in a two-dimensional 28X28 array. \n",
    "  # Flatten that two-dimensional array into a one-dimensional 784-element array.\n",
    "    model.add(tf.keras.layers.Flatten(input_shape=(28, 28)))\n",
    "\n",
    "  # Define the first hidden layer.   \n",
    "    model.add(tf.keras.layers.Dense(units=32, activation='relu'))\n",
    "  \n",
    "  # Define a dropout regularization layer. \n",
    "    model.add(tf.keras.layers.Dropout(rate=0.2))\n",
    "\n",
    "  # Define the output layer. \n",
    "  # The units parameter is set to 10 because the model must choose among 10 possible output values \n",
    "  # (representing the digits from 0 to 9, inclusive).\n",
    "  \n",
    "  # Don't change this layer.\n",
    "    model.add(tf.keras.layers.Dense(units=10, activation='softmax'))     \n",
    "                           \n",
    "  # Construct the layers into a model that TensorFlow can execute.  \n",
    "  # Notice that the loss function for multi-class classification is different than the loss function for binary classification.  \n",
    "    model.compile(optimizer=tf.keras.optimizers.Adam(lr=my_learning_rate),\n",
    "                loss=\"sparse_categorical_crossentropy\",\n",
    "                metrics=['accuracy'])\n",
    "  \n",
    "    return model    \n",
    "\n",
    "\n",
    "def train_model(model, train_features, train_label, epochs, batch_size=None, validation_split=0.1):\n",
    "    \"\"\"Train the model by feeding it data.\"\"\"\n",
    "\n",
    "    history = model.fit(x=train_features, y=train_label, batch_size=batch_size,\n",
    "                        epochs=epochs, shuffle=True, \n",
    "                        validation_split=validation_split)\n",
    " \n",
    "  # To track the progression of training, gather a snapshot\n",
    "  # of the model's metrics at each epoch. \n",
    "    epochs = history.epoch\n",
    "    hist = pd.DataFrame(history.history)\n",
    "\n",
    "    return epochs, hist    "
   ]
  },
  {
   "cell_type": "markdown",
   "id": "f8bc6224",
   "metadata": {},
   "source": [
    "## Call the function"
   ]
  },
  {
   "cell_type": "code",
   "execution_count": 18,
   "id": "31e79a7d",
   "metadata": {},
   "outputs": [
    {
     "name": "stderr",
     "output_type": "stream",
     "text": [
      "2022-08-21 00:12:02.596984: I tensorflow/core/platform/cpu_feature_guard.cc:193] This TensorFlow binary is optimized with oneAPI Deep Neural Network Library (oneDNN) to use the following CPU instructions in performance-critical operations:  AVX2 FMA\n",
      "To enable them in other operations, rebuild TensorFlow with the appropriate compiler flags.\n",
      "/Users/nguyenhien/opt/anaconda3/lib/python3.9/site-packages/keras/optimizers/optimizer_v2/adam.py:110: UserWarning: The `lr` argument is deprecated, use `learning_rate` instead.\n",
      "  super(Adam, self).__init__(name, **kwargs)\n"
     ]
    },
    {
     "name": "stdout",
     "output_type": "stream",
     "text": [
      "Epoch 1/50\n",
      "12/12 [==============================] - 1s 62ms/step - loss: 1.7774 - accuracy: 0.4439 - val_loss: 1.0239 - val_accuracy: 0.7798\n",
      "Epoch 2/50\n",
      "12/12 [==============================] - 0s 23ms/step - loss: 0.9345 - accuracy: 0.7245 - val_loss: 0.5606 - val_accuracy: 0.8596\n",
      "Epoch 3/50\n",
      "12/12 [==============================] - 0s 22ms/step - loss: 0.6548 - accuracy: 0.8041 - val_loss: 0.4264 - val_accuracy: 0.8854\n",
      "Epoch 4/50\n",
      "12/12 [==============================] - 0s 22ms/step - loss: 0.5358 - accuracy: 0.8421 - val_loss: 0.3638 - val_accuracy: 0.9009\n",
      "Epoch 5/50\n",
      "12/12 [==============================] - 0s 23ms/step - loss: 0.4717 - accuracy: 0.8599 - val_loss: 0.3253 - val_accuracy: 0.9112\n",
      "Epoch 6/50\n",
      "12/12 [==============================] - 0s 21ms/step - loss: 0.4268 - accuracy: 0.8747 - val_loss: 0.2992 - val_accuracy: 0.9173\n",
      "Epoch 7/50\n",
      "12/12 [==============================] - 0s 22ms/step - loss: 0.3958 - accuracy: 0.8835 - val_loss: 0.2805 - val_accuracy: 0.9224\n",
      "Epoch 8/50\n",
      "12/12 [==============================] - 0s 23ms/step - loss: 0.3729 - accuracy: 0.8911 - val_loss: 0.2658 - val_accuracy: 0.9268\n",
      "Epoch 9/50\n",
      "12/12 [==============================] - 0s 22ms/step - loss: 0.3522 - accuracy: 0.8972 - val_loss: 0.2531 - val_accuracy: 0.9305\n",
      "Epoch 10/50\n",
      "12/12 [==============================] - 0s 23ms/step - loss: 0.3392 - accuracy: 0.9007 - val_loss: 0.2438 - val_accuracy: 0.9327\n",
      "Epoch 11/50\n",
      "12/12 [==============================] - 0s 22ms/step - loss: 0.3248 - accuracy: 0.9057 - val_loss: 0.2326 - val_accuracy: 0.9351\n",
      "Epoch 12/50\n",
      "12/12 [==============================] - 0s 23ms/step - loss: 0.3145 - accuracy: 0.9069 - val_loss: 0.2244 - val_accuracy: 0.9365\n",
      "Epoch 13/50\n",
      "12/12 [==============================] - 0s 22ms/step - loss: 0.3020 - accuracy: 0.9127 - val_loss: 0.2174 - val_accuracy: 0.9390\n",
      "Epoch 14/50\n",
      "12/12 [==============================] - 0s 22ms/step - loss: 0.2896 - accuracy: 0.9151 - val_loss: 0.2111 - val_accuracy: 0.9403\n",
      "Epoch 15/50\n",
      "12/12 [==============================] - 0s 23ms/step - loss: 0.2799 - accuracy: 0.9174 - val_loss: 0.2042 - val_accuracy: 0.9428\n",
      "Epoch 16/50\n",
      "12/12 [==============================] - 0s 22ms/step - loss: 0.2728 - accuracy: 0.9190 - val_loss: 0.1988 - val_accuracy: 0.9438\n",
      "Epoch 17/50\n",
      "12/12 [==============================] - 0s 23ms/step - loss: 0.2654 - accuracy: 0.9228 - val_loss: 0.1936 - val_accuracy: 0.9457\n",
      "Epoch 18/50\n",
      "12/12 [==============================] - 0s 23ms/step - loss: 0.2575 - accuracy: 0.9237 - val_loss: 0.1886 - val_accuracy: 0.9466\n",
      "Epoch 19/50\n",
      "12/12 [==============================] - 0s 23ms/step - loss: 0.2528 - accuracy: 0.9263 - val_loss: 0.1856 - val_accuracy: 0.9477\n",
      "Epoch 20/50\n",
      "12/12 [==============================] - 0s 23ms/step - loss: 0.2498 - accuracy: 0.9258 - val_loss: 0.1808 - val_accuracy: 0.9485\n",
      "Epoch 21/50\n",
      "12/12 [==============================] - 0s 23ms/step - loss: 0.2424 - accuracy: 0.9277 - val_loss: 0.1766 - val_accuracy: 0.9498\n",
      "Epoch 22/50\n",
      "12/12 [==============================] - 0s 26ms/step - loss: 0.2370 - accuracy: 0.9304 - val_loss: 0.1734 - val_accuracy: 0.9520\n",
      "Epoch 23/50\n",
      "12/12 [==============================] - 0s 22ms/step - loss: 0.2316 - accuracy: 0.9314 - val_loss: 0.1701 - val_accuracy: 0.9516\n",
      "Epoch 24/50\n",
      "12/12 [==============================] - 0s 30ms/step - loss: 0.2282 - accuracy: 0.9326 - val_loss: 0.1677 - val_accuracy: 0.9533\n",
      "Epoch 25/50\n",
      "12/12 [==============================] - 0s 31ms/step - loss: 0.2235 - accuracy: 0.9341 - val_loss: 0.1654 - val_accuracy: 0.9532\n",
      "Epoch 26/50\n",
      "12/12 [==============================] - 0s 27ms/step - loss: 0.2185 - accuracy: 0.9348 - val_loss: 0.1626 - val_accuracy: 0.9538\n",
      "Epoch 27/50\n",
      "12/12 [==============================] - 0s 25ms/step - loss: 0.2150 - accuracy: 0.9350 - val_loss: 0.1599 - val_accuracy: 0.9542\n",
      "Epoch 28/50\n",
      "12/12 [==============================] - 0s 32ms/step - loss: 0.2108 - accuracy: 0.9379 - val_loss: 0.1584 - val_accuracy: 0.9555\n",
      "Epoch 29/50\n",
      "12/12 [==============================] - 0s 31ms/step - loss: 0.2081 - accuracy: 0.9391 - val_loss: 0.1566 - val_accuracy: 0.9560\n",
      "Epoch 30/50\n",
      "12/12 [==============================] - 0s 27ms/step - loss: 0.2062 - accuracy: 0.9377 - val_loss: 0.1544 - val_accuracy: 0.9563\n",
      "Epoch 31/50\n",
      "12/12 [==============================] - 0s 35ms/step - loss: 0.2029 - accuracy: 0.9396 - val_loss: 0.1521 - val_accuracy: 0.9562\n",
      "Epoch 32/50\n",
      "12/12 [==============================] - 0s 31ms/step - loss: 0.1970 - accuracy: 0.9406 - val_loss: 0.1502 - val_accuracy: 0.9567\n",
      "Epoch 33/50\n",
      "12/12 [==============================] - 0s 26ms/step - loss: 0.1988 - accuracy: 0.9400 - val_loss: 0.1485 - val_accuracy: 0.9577\n",
      "Epoch 34/50\n",
      "12/12 [==============================] - 0s 26ms/step - loss: 0.1933 - accuracy: 0.9427 - val_loss: 0.1471 - val_accuracy: 0.9583\n",
      "Epoch 35/50\n",
      "12/12 [==============================] - 0s 27ms/step - loss: 0.1928 - accuracy: 0.9411 - val_loss: 0.1473 - val_accuracy: 0.9580\n",
      "Epoch 36/50\n",
      "12/12 [==============================] - 0s 30ms/step - loss: 0.1913 - accuracy: 0.9422 - val_loss: 0.1438 - val_accuracy: 0.9592\n",
      "Epoch 37/50\n",
      "12/12 [==============================] - 0s 25ms/step - loss: 0.1905 - accuracy: 0.9421 - val_loss: 0.1423 - val_accuracy: 0.9592\n",
      "Epoch 38/50\n",
      "12/12 [==============================] - 0s 32ms/step - loss: 0.1864 - accuracy: 0.9431 - val_loss: 0.1420 - val_accuracy: 0.9593\n",
      "Epoch 39/50\n",
      "12/12 [==============================] - 0s 25ms/step - loss: 0.1833 - accuracy: 0.9444 - val_loss: 0.1408 - val_accuracy: 0.9595\n",
      "Epoch 40/50\n",
      "12/12 [==============================] - 0s 26ms/step - loss: 0.1814 - accuracy: 0.9444 - val_loss: 0.1391 - val_accuracy: 0.9603\n",
      "Epoch 41/50\n",
      "12/12 [==============================] - 0s 24ms/step - loss: 0.1798 - accuracy: 0.9449 - val_loss: 0.1379 - val_accuracy: 0.9601\n",
      "Epoch 42/50\n",
      "12/12 [==============================] - 0s 24ms/step - loss: 0.1785 - accuracy: 0.9453 - val_loss: 0.1367 - val_accuracy: 0.9599\n",
      "Epoch 43/50\n",
      "12/12 [==============================] - 0s 23ms/step - loss: 0.1751 - accuracy: 0.9461 - val_loss: 0.1367 - val_accuracy: 0.9605\n",
      "Epoch 44/50\n",
      "12/12 [==============================] - 0s 23ms/step - loss: 0.1728 - accuracy: 0.9461 - val_loss: 0.1347 - val_accuracy: 0.9611\n",
      "Epoch 45/50\n",
      "12/12 [==============================] - 0s 27ms/step - loss: 0.1698 - accuracy: 0.9485 - val_loss: 0.1336 - val_accuracy: 0.9608\n",
      "Epoch 46/50\n",
      "12/12 [==============================] - 0s 28ms/step - loss: 0.1711 - accuracy: 0.9483 - val_loss: 0.1330 - val_accuracy: 0.9616\n",
      "Epoch 47/50\n",
      "12/12 [==============================] - 0s 28ms/step - loss: 0.1682 - accuracy: 0.9491 - val_loss: 0.1327 - val_accuracy: 0.9612\n",
      "Epoch 48/50\n",
      "12/12 [==============================] - 0s 26ms/step - loss: 0.1682 - accuracy: 0.9479 - val_loss: 0.1321 - val_accuracy: 0.9628\n",
      "Epoch 49/50\n",
      "12/12 [==============================] - 0s 24ms/step - loss: 0.1664 - accuracy: 0.9493 - val_loss: 0.1322 - val_accuracy: 0.9623\n",
      "Epoch 50/50\n",
      "12/12 [==============================] - 0s 22ms/step - loss: 0.1659 - accuracy: 0.9482 - val_loss: 0.1302 - val_accuracy: 0.9624\n",
      "\n",
      " Evaluate the new model against the test set:\n",
      "3/3 [==============================] - 0s 8ms/step - loss: 0.1310 - accuracy: 0.9605\n"
     ]
    },
    {
     "data": {
      "text/plain": [
       "[0.1310364454984665, 0.9605000019073486]"
      ]
     },
     "execution_count": 18,
     "metadata": {},
     "output_type": "execute_result"
    },
    {
     "data": {
      "image/png": "[encoded data removed]",
      "text/plain": [
       "<Figure size 432x288 with 1 Axes>"
      ]
     },
     "metadata": {
      "needs_background": "light"
     },
     "output_type": "display_data"
    }
   ],
   "source": [
    "# The following variables are the hyperparameters.\n",
    "learning_rate = 0.003\n",
    "epochs = 50\n",
    "batch_size = 4000\n",
    "validation_split = 0.2\n",
    "\n",
    "# Establish the model's topography.\n",
    "my_model = create_model(learning_rate)\n",
    "\n",
    "# Train the model on the normalized training set.\n",
    "epochs, hist = train_model(my_model, x_train_normalized, y_train, \n",
    "                           epochs, batch_size, validation_split)\n",
    "\n",
    "# Plot a graph of the metric vs. epochs.\n",
    "list_of_metrics_to_plot = ['accuracy']\n",
    "plot_curve(epochs, hist, list_of_metrics_to_plot)\n",
    "\n",
    "# Evaluate against the test set.\n",
    "print(\"\\n Evaluate the new model against the test set:\")\n",
    "my_model.evaluate(x=x_test_normalized, y=y_test, batch_size=batch_size)"
   ]
  }
 ],
 "metadata": {
  "kernelspec": {
   "display_name": "Python 3 (ipykernel)",
   "language": "python",
   "name": "python3"
  },
  "language_info": {
   "codemirror_mode": {
    "name": "ipython",
    "version": 3
   },
   "file_extension": ".py",
   "mimetype": "text/x-python",
   "name": "python",
   "nbconvert_exporter": "python",
   "pygments_lexer": "ipython3",
   "version": "3.9.12"
  }
 },
 "nbformat": 4,
 "nbformat_minor": 5
}
